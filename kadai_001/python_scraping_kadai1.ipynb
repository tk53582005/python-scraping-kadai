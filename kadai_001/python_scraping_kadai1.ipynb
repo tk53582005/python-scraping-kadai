{
  "nbformat": 4,
  "nbformat_minor": 0,
  "metadata": {
    "colab": {
      "provenance": []
    },
    "kernelspec": {
      "name": "python3",
      "display_name": "Python 3"
    },
    "language_info": {
      "name": "python"
    }
  },
  "cells": [
    {
      "cell_type": "code",
      "execution_count": 22,
      "metadata": {
        "colab": {
          "base_uri": "https://localhost:8080/"
        },
        "id": "m6eFPe-iZDdR",
        "outputId": "dc85843d-a6e6-4490-ed27-3ce77abd9dc4"
      },
      "outputs": [
        {
          "output_type": "stream",
          "name": "stdout",
          "text": [
            "Requirement already satisfied: requests in /usr/local/lib/python3.12/dist-packages (2.32.4)\n",
            "Requirement already satisfied: beautifulsoup4 in /usr/local/lib/python3.12/dist-packages (4.13.5)\n",
            "Requirement already satisfied: charset_normalizer<4,>=2 in /usr/local/lib/python3.12/dist-packages (from requests) (3.4.3)\n",
            "Requirement already satisfied: idna<4,>=2.5 in /usr/local/lib/python3.12/dist-packages (from requests) (3.10)\n",
            "Requirement already satisfied: urllib3<3,>=1.21.1 in /usr/local/lib/python3.12/dist-packages (from requests) (2.5.0)\n",
            "Requirement already satisfied: certifi>=2017.4.17 in /usr/local/lib/python3.12/dist-packages (from requests) (2025.8.3)\n",
            "Requirement already satisfied: soupsieve>1.2 in /usr/local/lib/python3.12/dist-packages (from beautifulsoup4) (2.7)\n",
            "Requirement already satisfied: typing-extensions>=4.0.0 in /usr/local/lib/python3.12/dist-packages (from beautifulsoup4) (4.15.0)\n"
          ]
        }
      ],
      "source": [
        "!pip install requests beautifulsoup4"
      ]
    },
    {
      "cell_type": "code",
      "source": [
        "import requests\n",
        "from bs4 import BeautifulSoup\n",
        "print(\"ライブラリインポート完了\")"
      ],
      "metadata": {
        "colab": {
          "base_uri": "https://localhost:8080/"
        },
        "id": "Lut3raEoaFDd",
        "outputId": "d874f8f4-7884-47d3-da65-2d5bc1ccc6a5"
      },
      "execution_count": 23,
      "outputs": [
        {
          "output_type": "stream",
          "name": "stdout",
          "text": [
            "ライブラリインポート完了\n"
          ]
        }
      ]
    },
    {
      "cell_type": "code",
      "source": [
        "url = 'https://news.yahoo.co.jp/articles/2e888fc1e1d5daec2d756f41f65606935fbe8a9a'\n",
        "print(f\"対象URL: {url}\")"
      ],
      "metadata": {
        "colab": {
          "base_uri": "https://localhost:8080/"
        },
        "id": "kD0s80fIbE0A",
        "outputId": "5ab67e8d-30d5-454a-ddf2-c753ca3c41a1"
      },
      "execution_count": 24,
      "outputs": [
        {
          "output_type": "stream",
          "name": "stdout",
          "text": [
            "対象URL: https://news.yahoo.co.jp/articles/2e888fc1e1d5daec2d756f41f65606935fbe8a9a\n"
          ]
        }
      ]
    },
    {
      "cell_type": "code",
      "source": [
        "response = requests.get(url)\n",
        "print(f\"ステータスコード: {response.status_code}\")\n",
        "if response.status_code == 200:\n",
        "    print(\"HTMLの取得成功\")\n",
        "else:\n",
        "    print(\"HTMLの取得失敗\")"
      ],
      "metadata": {
        "colab": {
          "base_uri": "https://localhost:8080/"
        },
        "id": "1_qltEb5bbz8",
        "outputId": "656af711-f25c-4bfe-a27c-3a42edf21e68"
      },
      "execution_count": 25,
      "outputs": [
        {
          "output_type": "stream",
          "name": "stdout",
          "text": [
            "ステータスコード: 200\n",
            "HTMLの取得成功\n"
          ]
        }
      ]
    },
    {
      "cell_type": "code",
      "source": [
        "soup = BeautifulSoup(response.text, 'html.parser')\n",
        "title = soup.find('title')\n",
        "if title:\n",
        "    print(f\"ページタイトル: {title.text}\")\n",
        "    print(\"Beautiful Soupの解析完了\")\n",
        "else:\n",
        "    print(\"タイトルの取得失敗\")"
      ],
      "metadata": {
        "colab": {
          "base_uri": "https://localhost:8080/"
        },
        "id": "3WtoQmFobpO3",
        "outputId": "d363bc2b-c627-4d45-d455-ec29a48c07ba"
      },
      "execution_count": 26,
      "outputs": [
        {
          "output_type": "stream",
          "name": "stdout",
          "text": [
            "ページタイトル: 赤沢大臣が関税協議めぐる訪米を急遽中止（テレビ朝日系（ANN）） - Yahoo!ニュース\n",
            "Beautiful Soupの解析完了\n"
          ]
        }
      ]
    },
    {
      "cell_type": "code",
      "source": [
        "selectors = [\n",
        "    'div.highLightSearchTarget',\n",
        "    'div.article_body',\n",
        "    '.article-body',\n",
        "    '#uamods .article-body',\n",
        "    'div[data-cl-params*=\"body\"]'\n",
        "]\n",
        "\n",
        "for selector in selectors:\n",
        "    element = soup.select_one(selector)\n",
        "    if element:\n",
        "        print(f\"見つかりました: {selector}\")\n",
        "        print(f\"文字数: {len(element.text)}文字\")\n",
        "        print(f\"最初の100文字: {element.text[:100]}...\")\n",
        "        break\n",
        "    else:\n",
        "        print(f\"見つかりません: {selector}\")"
      ],
      "metadata": {
        "colab": {
          "base_uri": "https://localhost:8080/"
        },
        "id": "8ZdwM-8SgFOv",
        "outputId": "dc284852-e900-48d3-ff42-2c3ff139ee40"
      },
      "execution_count": 27,
      "outputs": [
        {
          "output_type": "stream",
          "name": "stdout",
          "text": [
            "見つかりました: div.highLightSearchTarget\n",
            "文字数: 333文字\n",
            "最初の100文字: テレ朝NEWSアメリカの関税措置をめぐりきょうからアメリカへの訪問を予定していた赤沢経済再生担当大臣が、急遽訪米を取りやめました。\n",
            "\n",
            "【これまでの経緯】日米相互関税15%で合意　トランプ関税のこれまで...\n"
          ]
        }
      ]
    },
    {
      "cell_type": "code",
      "source": [
        "article_body = soup.select_one('div.highLightSearchTarget')\n",
        "\n",
        "if article_body:\n",
        "    article_text = article_body.get_text(strip=True)\n",
        "    print(\"=\" * 50)\n",
        "    print(\"【記事本文】\")\n",
        "    print(\"=\" * 50)\n",
        "    print(article_text)\n",
        "    print(\"=\" * 50)\n",
        "    print(f\"文字数: {len(article_text)}文字\")\n",
        "else:\n",
        "    print(\"記事本文が見つかりませんでした\")"
      ],
      "metadata": {
        "colab": {
          "base_uri": "https://localhost:8080/"
        },
        "id": "RwtVhSjngwql",
        "outputId": "691b346d-3359-4372-af82-1285b4c47f61"
      },
      "execution_count": 28,
      "outputs": [
        {
          "output_type": "stream",
          "name": "stdout",
          "text": [
            "==================================================\n",
            "【記事本文】\n",
            "==================================================\n",
            "テレ朝NEWSアメリカの関税措置をめぐりきょうからアメリカへの訪問を予定していた赤沢経済再生担当大臣が、急遽訪米を取りやめました。【これまでの経緯】日米相互関税15%で合意　トランプ関税のこれまで当初、赤沢大臣は午前10時すぎに羽田空港を出発し、30日までの日程でワシントンを訪れてアメリカの閣僚らと協議する予定でした。\n",
            "\n",
            "政府関係者によりますと、アメリカ側との調整の中で事務的に調整すべき点があることが判明したため出張を取りやめ、事務レベルでの協議を続けていくことになったということです。\n",
            "\n",
            "今回の訪米では、80兆円規模の対米投資について日米で作成した共同文書を発表し、自動車関税などを引き下げるための大統領令の発出につなげたい考えでした。テレビ朝日報道局\n",
            "==================================================\n",
            "文字数: 329文字\n"
          ]
        }
      ]
    }
  ]
}